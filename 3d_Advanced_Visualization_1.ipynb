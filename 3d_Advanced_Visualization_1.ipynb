{
 "cells": [
  {
   "cell_type": "code",
   "execution_count": 1,
   "metadata": {},
   "outputs": [],
   "source": [
    "import pandas as pd\n",
    "import matplotlib.pyplot as plt\n",
    "import seaborn as sns\n",
    "from sklearn.ensemble import RandomForestRegressor\n",
    "from sklearn.model_selection import train_test_split\n",
    "from sklearn.metrics import mean_squared_error\n",
    "from mpl_toolkits.mplot3d import Axes3D\n",
    "import plotly.express as px\n",
    "import plotly.graph_objects as go\n",
    "df = pd.read_csv('./data/musicdata_cleaned.csv')\n",
    "df['Length'] = '0:' + df['Length'].astype(str)\n",
    "df['Length'] = pd.to_timedelta(df['Length'], errors='coerce').dt.total_seconds()\n",
    "df['Length'] = pd.to_timedelta(df['Length']).dt.total_seconds()\n",
    "df['Release'] = pd.to_datetime(df['Release'], errors='coerce')\n",
    "df.dropna(subset=['Release'], inplace=True)\n"
   ]
  },
  {
   "cell_type": "markdown",
   "metadata": {},
   "source": [
    "## Sunburst Chart – Energy and Valence Hierarchy"
   ]
  },
  {
   "cell_type": "code",
   "execution_count": 8,
   "metadata": {},
   "outputs": [],
   "source": [
    "import plotly.express as px\n",
    "import plotly.io as pio\n",
    "\n",
    "pio.renderers.default = 'browser'  \n",
    "df['ValenceLevel'] = pd.cut(df['Valence'], bins=[0, 25, 50, 75, 100], labels=['Low', 'Med-Low', 'Med-High', 'High'])\n",
    "df['EnergyLevel'] = pd.cut(df['Energy'], bins=[0, 25, 50, 75, 100], labels=['Low', 'Med-Low', 'Med-High', 'High'])\n",
    "fig = px.sunburst(df, path=['EnergyLevel', 'ValenceLevel'], values='Pop.', title='Energy-Valence Sunburst')\n",
    "fig.show()"
   ]
  },
  {
   "cell_type": "markdown",
   "metadata": {},
   "source": [
    "## Radar Chart – Audio Profiles of Songs"
   ]
  },
  {
   "cell_type": "code",
   "execution_count": 9,
   "metadata": {},
   "outputs": [],
   "source": [
    "sample = df.sample(25, random_state=42)\n",
    "categories = ['BPM', 'Energy', 'Dance', 'Loud', 'Valence', 'Acoustic']\n",
    "fig = go.Figure()\n",
    "for i, row in sample.iterrows():\n",
    "    fig.add_trace(go.Scatterpolar(r=row[categories].values,\n",
    "                                  theta=categories,\n",
    "                                  fill='toself',\n",
    "                                  name=row['Title']))\n",
    "fig.update_layout(title='Radar Chart of Audio Profiles', polar=dict(radialaxis=dict(visible=True)), showlegend=True)\n",
    "fig.show()"
   ]
  },
  {
   "cell_type": "markdown",
   "metadata": {},
   "source": [
    "## 3D Scatter – BPM vs Dance vs Energy"
   ]
  },
  {
   "cell_type": "code",
   "execution_count": 5,
   "metadata": {},
   "outputs": [],
   "source": [
    "fig = px.scatter_3d(df, x='BPM', y='Dance', z='Energy', color='Pop.', size='Valence', hover_data=['Title'])\n",
    "fig.update_layout(title='3D Scatter of BPM, Dance, Energy')\n",
    "fig.show()"
   ]
  }
 ],
 "metadata": {
  "kernelspec": {
   "display_name": ".venv",
   "language": "python",
   "name": "python3"
  },
  "language_info": {
   "codemirror_mode": {
    "name": "ipython",
    "version": 3
   },
   "file_extension": ".py",
   "mimetype": "text/x-python",
   "name": "python",
   "nbconvert_exporter": "python",
   "pygments_lexer": "ipython3",
   "version": "3.11.1"
  }
 },
 "nbformat": 4,
 "nbformat_minor": 2
}
