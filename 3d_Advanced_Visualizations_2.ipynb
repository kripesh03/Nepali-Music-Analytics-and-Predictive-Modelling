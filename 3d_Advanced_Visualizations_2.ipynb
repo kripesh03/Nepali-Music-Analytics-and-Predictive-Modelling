{
 "cells": [
  {
   "cell_type": "code",
   "execution_count": 4,
   "metadata": {},
   "outputs": [],
   "source": [
    "\n",
    "import pandas as pd\n",
    "import plotly.express as px\n",
    "import plotly.graph_objects as go\n",
    "\n",
    "# Load data\n",
    "df = pd.read_csv('./data/musicdata_cleaned.csv')\n",
    "# Convert song length to seconds\n",
    "def convert_length_to_seconds(length_str):\n",
    "    try:\n",
    "        mins, secs = map(int, length_str.split(':'))\n",
    "        return mins * 60 + secs\n",
    "    except:\n",
    "        return 0\n",
    "df['Length_sec'] = df['Length'].astype(str).apply(convert_length_to_seconds)\n",
    "# Genre classification for visualization\n",
    "def classify_genre(row):\n",
    "    if row['Length_sec'] > 480:\n",
    "        return 'Lok Dohori'\n",
    "    elif row['Energy'] > 70 and row['Dance'] > 60:\n",
    "        return 'Pop'\n",
    "    elif row['Energy'] > 65 and row['Valence'] < 50:\n",
    "        return 'Rock'\n",
    "    elif row['Acoustic'] > 80:\n",
    "        return 'Acoustic'\n",
    "    elif row['Dance'] > 70 and row['Valence'] > 70:\n",
    "        return 'Dance/Party'\n",
    "    else:\n",
    "        return 'Other'\n",
    "df['Simulated Genre'] = df.apply(classify_genre, axis=1)\n",
    "\n"
   ]
  },
  {
   "cell_type": "markdown",
   "metadata": {},
   "source": [
    "## Interactive Scatter: Valence vs Energy\n",
    "\n",
    "A 2D scatter plot colored by simulated genre."
   ]
  },
  {
   "cell_type": "code",
   "execution_count": 2,
   "metadata": {},
   "outputs": [],
   "source": [
    "import plotly.express as px\n",
    "import plotly.io as pio\n",
    "\n",
    "pio.renderers.default = 'browser'  # Opens chart in browser window\n",
    "\n",
    "fig1 = px.scatter(\n",
    "    df,\n",
    "    x='Valence', y='Energy',\n",
    "    color='Simulated Genre',\n",
    "    hover_data=['Title', 'Artist'],\n",
    "    title='Valence vs Energy by Genre',\n",
    "    template='plotly_dark'\n",
    ")\n",
    "\n",
    "fig1.show()\n"
   ]
  },
  {
   "cell_type": "markdown",
   "metadata": {},
   "source": [
    "## 3D Feature Plot\n",
    "\n",
    "This 3D scatter plot visualizes BPM, Danceability, and Energy."
   ]
  },
  {
   "cell_type": "code",
   "execution_count": 11,
   "metadata": {},
   "outputs": [],
   "source": [
    "import plotly.express as px\n",
    "import plotly.io as pio\n",
    "\n",
    "pio.renderers.default = 'browser'  # Opens chart in browser window\n",
    "\n",
    "fig2 = px.scatter_3d(\n",
    "    df,\n",
    "    x='Loud', y='Dance', z='Pop.',\n",
    "    color='Simulated Genre',\n",
    "    hover_data=['Title', 'Artist'],\n",
    "    title='3D Plot: Loudness vs Dance vs Popularity',\n",
    "    template='plotly_dark'\n",
    ")\n",
    "fig2.show()"
   ]
  }
 ],
 "metadata": {
  "kernelspec": {
   "display_name": ".venv",
   "language": "python",
   "name": "python3"
  },
  "language_info": {
   "codemirror_mode": {
    "name": "ipython",
    "version": 3
   },
   "file_extension": ".py",
   "mimetype": "text/x-python",
   "name": "python",
   "nbconvert_exporter": "python",
   "pygments_lexer": "ipython3",
   "version": "3.11.1"
  }
 },
 "nbformat": 4,
 "nbformat_minor": 2
}
