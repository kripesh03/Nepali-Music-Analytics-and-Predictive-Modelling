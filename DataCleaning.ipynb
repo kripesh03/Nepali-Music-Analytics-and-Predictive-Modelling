{
 "cells": [
  {
   "cell_type": "code",
   "execution_count": null,
   "id": "36d3d940",
   "metadata": {},
   "outputs": [],
   "source": [
    "\n",
    "import pandas as pd\n",
    "df = pd.read_csv(\"./data/nepalimusicdata.csv\")\n",
    "df_cleaned = df.drop_duplicates(subset=[\"Title\", \"Artist\"], keep=\"first\")\n",
    "# print(\"Original:\", len(df))\n",
    "# print(\"After removing duplicates:\", len(df_cleaned))\n",
    "df_cleaned.reset_index(drop=True, inplace=True)\n",
    "df_cleaned.to_csv(\"./data/musicdata_cleaned.csv\", index=False)"
   ]
  }
 ],
 "metadata": {
  "kernelspec": {
   "display_name": ".venv",
   "language": "python",
   "name": "python3"
  },
  "language_info": {
   "codemirror_mode": {
    "name": "ipython",
    "version": 3
   },
   "file_extension": ".py",
   "mimetype": "text/x-python",
   "name": "python",
   "nbconvert_exporter": "python",
   "pygments_lexer": "ipython3",
   "version": "3.11.1"
  }
 },
 "nbformat": 4,
 "nbformat_minor": 5
}
